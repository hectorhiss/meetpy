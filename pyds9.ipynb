{
 "cells": [
  {
   "cell_type": "markdown",
   "metadata": {},
   "source": [
    "# pyds9 - Python connection to SAOimage DS9 via XPA"
   ]
  },
  {
   "cell_type": "markdown",
   "metadata": {},
   "source": [
    "pyds9 on GitHub:  \n",
    "https://github.com/ericmandel/pyds9\n",
    "\n",
    "pyds9 documentation:  \n",
    "http://hea-www.harvard.edu/RD/pyds9/index.html#indices-and-tables\n",
    "\n",
    "XPA commands:  \n",
    "http://ds9.si.edu/doc/ref/xpa.html\n"
   ]
  },
  {
   "cell_type": "markdown",
   "metadata": {},
   "source": [
    "### Connect to ds9\n",
    "\n",
    "For ds9 version 5.7 and beyond, simply register the\n",
    "existing ds9 with the xpans name server by selecting the\n",
    "ds9 File->XPA->Connect menu option."
   ]
  },
  {
   "cell_type": "code",
   "execution_count": 1,
   "metadata": {
    "collapsed": false
   },
   "outputs": [
    {
     "name": "stdout",
     "output_type": "stream",
     "text": [
      "\n",
      "An instance of ds9 was found to be running before we could\n",
      "start the 'xpans' name server. You will need to perform a\n",
      "bit of manual intervention in order to connect this\n",
      "existing ds9 to Python.\n",
      "\n",
      "For ds9 version 5.7 and beyond, simply register the\n",
      "existing ds9 with the xpans name server by selecting the\n",
      "ds9 File->XPA->Connect menu option. Your ds9 will now be\n",
      "fully accessible to pyds9 (e.g., it appear in the list\n",
      "returned by the ds9_targets() routine).\n",
      "\n",
      "For ds9 versions prior to 5.7, you cannot (easily) register\n",
      "with xpans, but you can view ds9's File->XPA Information\n",
      "menu option and pass the value associated with XPA_METHOD\n",
      "directly to the Python DS9() constructor, e.g.:\n",
      "\n",
      "    d = DS9('a000101:12345')\n",
      "\n",
      "The good news is that new instances of ds9 will be\n",
      "registered with xpans, and will be known to ds9_targets()\n",
      "and the DS9() constructor.\n",
      "\n"
     ]
    }
   ],
   "source": [
    "import pyds9\n",
    "d = pyds9.DS9()  # will open a new ds9 window or connect to an existing one"
   ]
  },
  {
   "cell_type": "markdown",
   "metadata": {},
   "source": [
    "### Example: Make a 2D gaussian image, view and manipulate it in ds9\n",
    "\n",
    "from: http://www.astrobetter.com/blog/2010/07/14/manipulating-and-viewing-fits-files-in-python-with-pyds9/"
   ]
  },
  {
   "cell_type": "code",
   "execution_count": 2,
   "metadata": {
    "collapsed": true
   },
   "outputs": [],
   "source": [
    "from scipy import stats\n",
    "import numpy as np\n",
    " \n",
    "# Make a 2D gaussian image that is stored in a 2D numpy array\n",
    "x = np.arange(-3, 3, 0.1)\n",
    "xx, yy = np.meshgrid(x, x)\n",
    "gauss2d = stats.norm.pdf(xx) * stats.norm.pdf(yy)"
   ]
  },
  {
   "cell_type": "code",
   "execution_count": 3,
   "metadata": {
    "collapsed": false
   },
   "outputs": [
    {
     "data": {
      "text/plain": [
       "1"
      ]
     },
     "execution_count": 3,
     "metadata": {},
     "output_type": "execute_result"
    }
   ],
   "source": [
    "d = pyds9.DS9() \n",
    "\n",
    "# Load up our 2D gaussian\n",
    "d.set_np2arr(gauss2d)"
   ]
  },
  {
   "cell_type": "code",
   "execution_count": 4,
   "metadata": {
    "collapsed": false
   },
   "outputs": [
    {
     "data": {
      "text/plain": [
       "1"
      ]
     },
     "execution_count": 4,
     "metadata": {},
     "output_type": "execute_result"
    }
   ],
   "source": [
    "# Zoom to fit\n",
    "d.set('zoom to fit')"
   ]
  },
  {
   "cell_type": "code",
   "execution_count": 5,
   "metadata": {
    "collapsed": false
   },
   "outputs": [
    {
     "data": {
      "text/plain": [
       "1"
      ]
     },
     "execution_count": 5,
     "metadata": {},
     "output_type": "execute_result"
    }
   ],
   "source": [
    "# Change the colormap and scaling\n",
    "d.set('cmap bb')\n",
    "d.set('scale log')"
   ]
  },
  {
   "cell_type": "code",
   "execution_count": 6,
   "metadata": {
    "collapsed": false
   },
   "outputs": [
    {
     "data": {
      "text/plain": [
       "1"
      ]
     },
     "execution_count": 6,
     "metadata": {},
     "output_type": "execute_result"
    }
   ],
   "source": [
    "# Add a label\n",
    "d.set('regions command {text 30 20 #text=\"Fun with pyds9\" font=\"times 18 bold\"}')"
   ]
  },
  {
   "cell_type": "code",
   "execution_count": 7,
   "metadata": {
    "collapsed": false
   },
   "outputs": [
    {
     "name": "stdout",
     "output_type": "stream",
     "text": [
      "log\n"
     ]
    }
   ],
   "source": [
    "# Check back to see what the current color scale is.\n",
    "print(d.get('scale'))"
   ]
  },
  {
   "cell_type": "markdown",
   "metadata": {},
   "source": [
    "### Example: lock and match wcs coordinates"
   ]
  },
  {
   "cell_type": "code",
   "execution_count": 8,
   "metadata": {
    "collapsed": false
   },
   "outputs": [
    {
     "data": {
      "text/plain": [
       "1"
      ]
     },
     "execution_count": 8,
     "metadata": {},
     "output_type": "execute_result"
    }
   ],
   "source": [
    "from astropy.utils.data import get_pkg_data_filename\n",
    "\n",
    "import pyds9\n",
    "d = pyds9.DS9() \n",
    "\n",
    "d.set('frame delete all')\n",
    "\n",
    "d.set('frame new')\n",
    "# open first image in ds9, change scale\n",
    "d.set('fits {}'.format(\n",
    "    get_pkg_data_filename('galactic_center/gc_2mass_k.fits')))\n",
    "d.set('scale asinh')\n",
    "d.set('scale mode 99.5')\n",
    "d.set('cmap a')"
   ]
  },
  {
   "cell_type": "code",
   "execution_count": 9,
   "metadata": {
    "collapsed": false
   },
   "outputs": [
    {
     "data": {
      "text/plain": [
       "1"
      ]
     },
     "execution_count": 9,
     "metadata": {},
     "output_type": "execute_result"
    }
   ],
   "source": [
    "# open second image in ds9\n",
    "d.set('frame new')\n",
    "\n",
    "# open second image, change scale\n",
    "d.set('fits {}'.format(\n",
    "    get_pkg_data_filename('galactic_center/gc_msx_e.fits')))\n",
    "d.set('scale asinh')\n",
    "d.set('scale mode 99.5')\n",
    "d.set('cmap heat')"
   ]
  },
  {
   "cell_type": "code",
   "execution_count": 10,
   "metadata": {
    "collapsed": true
   },
   "outputs": [],
   "source": [
    "# define function for matching and locking the wcs\n",
    "def match_lock_wcs():\n",
    "    d = pyds9.DS9()\n",
    "    d.set('frame match wcs')\n",
    "    d.set('frame lock wcs')"
   ]
  },
  {
   "cell_type": "code",
   "execution_count": 11,
   "metadata": {
    "collapsed": true
   },
   "outputs": [],
   "source": [
    "match_lock_wcs()"
   ]
  },
  {
   "cell_type": "markdown",
   "metadata": {},
   "source": [
    "### Example: Make contours with different properties"
   ]
  },
  {
   "cell_type": "code",
   "execution_count": 12,
   "metadata": {
    "collapsed": false
   },
   "outputs": [
    {
     "data": {
      "text/plain": [
       "1"
      ]
     },
     "execution_count": 12,
     "metadata": {},
     "output_type": "execute_result"
    }
   ],
   "source": [
    "from astropy.utils.data import get_pkg_data_filename\n",
    "\n",
    "d = pyds9.DS9() \n",
    "\n",
    "d.set('frame delete all')\n",
    "\n",
    "d.set('frame new')\n",
    "# open first image in ds9, change scale\n",
    "d.set('fits {}'.format(\n",
    "    get_pkg_data_filename('galactic_center/gc_bolocam_gps.fits')))\n",
    "\n",
    "d.set('scale linear')\n",
    "d.set('scale mode 99.5')\n",
    "d.set('cmap grey')\n"
   ]
  },
  {
   "cell_type": "code",
   "execution_count": 13,
   "metadata": {
    "collapsed": false
   },
   "outputs": [
    {
     "data": {
      "text/plain": [
       "1"
      ]
     },
     "execution_count": 13,
     "metadata": {},
     "output_type": "execute_result"
    }
   ],
   "source": [
    "d.set('contour yes')\n",
    "\n",
    "for value, color, width, dash in zip(\n",
    "        [1, 3, 5, 7, 9],\n",
    "        ['green', 'black', 'blue', 'red', 'yellow'],\n",
    "        [1, 2, 2, 3, 3],\n",
    "        ['yes', 'no', 'yes', 'no', 'no']):\n",
    "    d.set('contour color {}'.format(color))\n",
    "    d.set('contour limits {} {}'.format(value, value))\n",
    "    d.set('contour scale linear')\n",
    "    d.set('contour nlevels 1')\n",
    "    d.set('contour smooth 1')\n",
    "    d.set('contour width {}'.format(width))\n",
    "    d.set('contour dash {}'.format(dash))\n",
    "    d.set('contour generate')\n",
    "    d.set('contour convert')\n",
    "    \n",
    "d.set('contour no')\n",
    "d.set('mode pan')\n"
   ]
  },
  {
   "cell_type": "markdown",
   "metadata": {},
   "source": [
    "### Example: Make an RGB image in ds9"
   ]
  },
  {
   "cell_type": "code",
   "execution_count": 14,
   "metadata": {
    "collapsed": false
   },
   "outputs": [],
   "source": [
    "from astropy.utils.data import get_pkg_data_filename\n",
    "\n",
    "d = pyds9.DS9() \n",
    "\n",
    "d.set('frame delete all')\n",
    "\n",
    "imgList = ['galactic_center/gc_2mass_h.fits',\n",
    "           'galactic_center/gc_2mass_j.fits',\n",
    "           'galactic_center/gc_2mass_k.fits']\n",
    "\n",
    "for img in imgList:\n",
    "    d.set('frame new')\n",
    "    d.set('scale linear')\n",
    "    d.set('scale mode 99.5')\n",
    "    d.set('fits {}'.format(get_pkg_data_filename(img)))\n",
    "    \n",
    "match_lock_wcs()\n"
   ]
  },
  {
   "cell_type": "code",
   "execution_count": 15,
   "metadata": {
    "collapsed": false
   },
   "outputs": [
    {
     "data": {
      "text/plain": [
       "1"
      ]
     },
     "execution_count": 15,
     "metadata": {},
     "output_type": "execute_result"
    }
   ],
   "source": [
    "d = pyds9.DS9()\n",
    "d.set('frame new rgb')\n",
    "d.set('rgb red')  # set current channel to red\n",
    "d.set('rgb open')\n",
    "d.set('rgb lock wcs yes')\n",
    "d.set('rgb lock crop yes')\n",
    "d.set('rgb lock slice yes')\n",
    "d.set('rgb lock bin yes')\n",
    "d.set('rgb lock scale no')\n",
    "d.set('rgb lock colorbar no')\n",
    "d.set('rgb lock smooth yes')\n",
    "d.set('rgb close')\n",
    "d.set('fits slice {}'.format(get_pkg_data_filename(imgList[2])))\n",
    "d.set('scale asinh')\n",
    "d.set('scale mode 99.5')\n",
    "d.set('rgb open')\n",
    "d.set('rgb green')  # set current channel to green\n",
    "d.set('rgb close')\n",
    "d.set('fits slice {}'.format(get_pkg_data_filename(imgList[0])))\n",
    "d.set('scale asinh')\n",
    "d.set('scale mode 99.5')\n",
    "d.set('rgb open')\n",
    "d.set('rgb blue')  # set current channel to blue\n",
    "d.set('rgb close')\n",
    "d.set('fits slice {}'.format(get_pkg_data_filename(imgList[1])))\n",
    "d.set('scale asinh')\n",
    "d.set('scale mode 99.5')\n"
   ]
  },
  {
   "cell_type": "markdown",
   "metadata": {
    "collapsed": true
   },
   "source": [
    "### Example: Let's go interactive!"
   ]
  },
  {
   "cell_type": "code",
   "execution_count": 16,
   "metadata": {
    "collapsed": false
   },
   "outputs": [
    {
     "data": {
      "text/plain": [
       "1"
      ]
     },
     "execution_count": 16,
     "metadata": {},
     "output_type": "execute_result"
    }
   ],
   "source": [
    "from astropy.utils.data import get_pkg_data_filename\n",
    "\n",
    "import pyds9\n",
    "d = pyds9.DS9() \n",
    "\n",
    "d.set('frame delete all')\n",
    "\n",
    "d.set('frame new')\n",
    "# open first image in ds9, change scale\n",
    "d.set('fits {}'.format(\n",
    "    get_pkg_data_filename('galactic_center/gc_2mass_k.fits')))\n",
    "d.set('scale asinh')\n",
    "d.set('scale mode 99.5')\n",
    "d.set('cmap grey')\n"
   ]
  },
  {
   "cell_type": "code",
   "execution_count": 17,
   "metadata": {
    "collapsed": false
   },
   "outputs": [],
   "source": [
    "%matplotlib inline\n",
    "import numpy as np\n",
    "import matplotlib.pyplot as plt\n",
    "import ipywidgets as widgets\n",
    "\n",
    "from ipywidgets import interact, interactive, fixed, interact_manual\n",
    "import ipywidgets as widgets\n",
    "\n",
    "def ds9_slide(txt, zoom=0.4, scale=99.5, mode='asinh'):\n",
    "    d = pyds9.DS9()\n",
    "    d.set('regions delete all')\n",
    "    d.set('scale {}'.format(mode))\n",
    "    d.set('scale mode {}'.format(scale))\n",
    "    d.set('zoom to {}'.format(zoom))\n",
    "    d.set('regions command {{text 300 30 #text=\"{}\" color=red font=\"times 18 bold\"}}'.format(txt))\n",
    "    #return scale, mode, zoom\n",
    "\n",
    "lstScale = ['linear', 'log', 'asinh']\n",
    "interact(ds9_slide, \n",
    "         scale=(50, 100, 0.01),\n",
    "         zoom=(0.1, 50, 0.1),\n",
    "         mode=lstScale,\n",
    "         txt='Fun with pyds9')\n"
   ]
  },
  {
   "cell_type": "code",
   "execution_count": null,
   "metadata": {
    "collapsed": false
   },
   "outputs": [],
   "source": [
    "d.set('regions delete all')"
   ]
  },
  {
   "cell_type": "code",
   "execution_count": 18,
   "metadata": {
    "collapsed": false
   },
   "outputs": [
    {
     "data": {
      "text/plain": [
       "'# Region file format: DS9 version 4.1\\nglobal color=green dashlist=8 3 width=1 font=\"helvetica 10 normal roman\" select=1 highlite=1 dash=0 fixed=0 edit=1 move=1 delete=1 include=1 source=1\\nfk5\\n# text(17:45:59.337,-29:23:32.326) color=red font=\"times 18 bold\" text={sdfjkjxyv sjdf}\\ncircle(17:44:44.370,-28:54:55.240,308.141\") # color=red font=\"times 18 bold \"\\n'"
      ]
     },
     "execution_count": 18,
     "metadata": {},
     "output_type": "execute_result"
    }
   ],
   "source": [
    "d.get('regions')"
   ]
  },
  {
   "cell_type": "code",
   "execution_count": null,
   "metadata": {
    "collapsed": true
   },
   "outputs": [],
   "source": []
  }
 ],
 "metadata": {
  "anaconda-cloud": {},
  "kernelspec": {
   "display_name": "Python [conda root]",
   "language": "python",
   "name": "conda-root-py"
  },
  "language_info": {
   "codemirror_mode": {
    "name": "ipython",
    "version": 3
   },
   "file_extension": ".py",
   "mimetype": "text/x-python",
   "name": "python",
   "nbconvert_exporter": "python",
   "pygments_lexer": "ipython3",
   "version": "3.5.1"
  },
  "widgets": {
   "state": {
    "65cd8fec820c4bfdbf5af29f1dd8898a": {
     "views": [
      {
       "cell_index": 24
      }
     ]
    }
   },
   "version": "1.2.0"
  }
 },
 "nbformat": 4,
 "nbformat_minor": 1
}

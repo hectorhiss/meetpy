{
 "cells": [
  {
   "cell_type": "markdown",
   "metadata": {},
   "source": [
    "# How to do your own modules"
   ]
  },
  {
   "cell_type": "markdown",
   "metadata": {},
   "source": [
    "## Lets create ownModule"
   ]
  },
  {
   "cell_type": "markdown",
   "metadata": {},
   "source": [
    "You start with having a folder created with name of what you new module shall be called. With this and all other sub-module therein you shall better not use names of already existing modules, i.e. os would not be a good sub-module name.\n",
    "\n",
    "Next thing is adding your new module to $PYTHONPATH in your ~/.bashrc, else python will not find it:\n",
    "\n",
    "export PYTHONPATH=$PYTHONPATH:'/home/user/py_projects/meetpy/ownModule'\n",
    "\n",
    "You can also add a whole folder, e.g. py_projects as above, so you get every module thats inside, but nestes, so sub-modules will only appear as such inside of the host module."
   ]
  },
  {
   "cell_type": "code",
   "execution_count": 4,
   "metadata": {
    "collapsed": false
   },
   "outputs": [],
   "source": [
    "import ownModuleA"
   ]
  },
  {
   "cell_type": "markdown",
   "metadata": {},
   "source": [
    "ownModuleA comes with only a folder 'ownModuleA' and a file '__init__.py'. This python file is the indicator that identifies a folder as a (sub-)module. Moreover, the '__init__.py' can be used to set up your module enviroment and define some thing that you consider major and shall be done as early as possible, here in example B we define a variable and a help function."
   ]
  },
  {
   "cell_type": "code",
   "execution_count": 5,
   "metadata": {
    "collapsed": false
   },
   "outputs": [
    {
     "name": "stdout",
     "output_type": "stream",
     "text": [
      "Hey there!\n"
     ]
    }
   ],
   "source": [
    "import ownModuleB"
   ]
  },
  {
   "cell_type": "code",
   "execution_count": 7,
   "metadata": {
    "collapsed": false
   },
   "outputs": [
    {
     "name": "stdout",
     "output_type": "stream",
     "text": [
      "100\n",
      "# ownModule Version B \n",
      " - nothing but full 100\n",
      "# Do you really need help? Try .variable\n"
     ]
    }
   ],
   "source": [
    "print(ownModuleB.variable)\n",
    "ownModuleB.help()"
   ]
  },
  {
   "cell_type": "code",
   "execution_count": 1,
   "metadata": {
    "collapsed": false
   },
   "outputs": [
    {
     "name": "stdout",
     "output_type": "stream",
     "text": [
      "Object `ownModuleB` not found.\n"
     ]
    }
   ],
   "source": [
    "ownModuleB?"
   ]
  },
  {
   "cell_type": "markdown",
   "metadata": {},
   "source": [
    "## Our first function!"
   ]
  },
  {
   "cell_type": "code",
   "execution_count": 2,
   "metadata": {
    "collapsed": false
   },
   "outputs": [
    {
     "name": "stdout",
     "output_type": "stream",
     "text": [
      "Hey there!\n"
     ]
    }
   ],
   "source": [
    "import ownModuleC"
   ]
  },
  {
   "cell_type": "markdown",
   "metadata": {},
   "source": [
    "Beware! I did not name this function simply 'random', since random is an already existing module! We even use it herein. With the newst version of python3 one specially has to state where the function/object/module is that one whats to import, e.g. via '.'.\n",
    "\n",
    "In this case we specify if via from .random100 import random100"
   ]
  },
  {
   "cell_type": "code",
   "execution_count": 14,
   "metadata": {
    "collapsed": false
   },
   "outputs": [
    {
     "name": "stdout",
     "output_type": "stream",
     "text": [
      "100\n",
      "hundert\n",
      "100.0\n",
      "100\n"
     ]
    }
   ],
   "source": [
    "print(ownModuleC.random100())\n",
    "print(ownModuleC.random100())\n",
    "print(ownModuleC.random100())\n",
    "print(ownModuleC.random100())"
   ]
  },
  {
   "cell_type": "markdown",
   "metadata": {},
   "source": [
    "Things can get messy and complicated when filename and function within are not having the same name."
   ]
  },
  {
   "cell_type": "code",
   "execution_count": 16,
   "metadata": {
    "collapsed": false
   },
   "outputs": [
    {
     "name": "stdout",
     "output_type": "stream",
     "text": [
      "! You found me in messy.py, though my name is nessie.\n",
      "                          _   _       _a_a\n",
      "              _   _     _{.`=`.}_    {/ ''\\_\n",
      "        _    {.`'`.}   {.'  _  '.}  {|  ._oo)\n",
      "       { \\  {/ .-. \\} {/  .' '.  \\} {/  |\n",
      "~^~^~`~^~`~^~`~^~`~^~^~`^~^~`^~^~^~^~^~^~`^~~\n"
     ]
    },
    {
     "data": {
      "text/plain": [
       "False"
      ]
     },
     "execution_count": 16,
     "metadata": {},
     "output_type": "execute_result"
    }
   ],
   "source": [
    "ownModuleC.nessie()"
   ]
  },
  {
   "cell_type": "code",
   "execution_count": 3,
   "metadata": {
    "collapsed": false
   },
   "outputs": [
    {
     "ename": "AttributeError",
     "evalue": "module 'ownModuleC' has no attribute 'messy'",
     "output_type": "error",
     "traceback": [
      "\u001b[0;31m---------------------------------------------------------------------------\u001b[0m",
      "\u001b[0;31mAttributeError\u001b[0m                            Traceback (most recent call last)",
      "\u001b[0;32m<ipython-input-3-a616851ad087>\u001b[0m in \u001b[0;36m<module>\u001b[0;34m()\u001b[0m\n\u001b[0;32m----> 1\u001b[0;31m \u001b[0mownModuleC\u001b[0m\u001b[0;34m.\u001b[0m\u001b[0mmessy\u001b[0m\u001b[0;34m.\u001b[0m\u001b[0mirish_nessie\u001b[0m\u001b[0;34m(\u001b[0m\u001b[0;34m)\u001b[0m\u001b[0;34m\u001b[0m\u001b[0m\n\u001b[0m",
      "\u001b[0;31mAttributeError\u001b[0m: module 'ownModuleC' has no attribute 'messy'"
     ]
    }
   ],
   "source": [
    "ownModuleC.messy.irish_nessie()"
   ]
  },
  {
   "cell_type": "markdown",
   "metadata": {},
   "source": [
    "Checkout typical traps when importing modules and sub-modules:\n",
    "http://python-notes.curiousefficiency.org/en/latest/python_concepts/import_traps.html"
   ]
  },
  {
   "cell_type": "markdown",
   "metadata": {},
   "source": [
    "# Adding Objects to your module\n",
    "## Lets give nessie a good home"
   ]
  },
  {
   "cell_type": "markdown",
   "metadata": {},
   "source": [
    "Next, we try and put nessie in a own sub-module and wrap nessie up in an object so we can interact in a more propper way."
   ]
  },
  {
   "cell_type": "code",
   "execution_count": 1,
   "metadata": {
    "collapsed": false
   },
   "outputs": [
    {
     "name": "stdout",
     "output_type": "stream",
     "text": [
      "   _____                           __                    _____                  __     \n",
      "  /     \\   ____   ____    _______/  |_  ___________    /     \\  _____    _____|  |__  \n",
      " /  \\ /  \\ /  _ \\ /    \\  /  ___/\\   __\\/ __ \\_  __ \\  /  \\ /  \\ \\__  \\  /  ___/  |  \\  \n",
      "/    Y    (  <_> )   |  \\ \\___ \\  |  | \\  ___/|  | \\/ /    Y    \\ / __ \\_\\___ \\|   Y  \\ \n",
      "\\____|__  /\\____/|___|  / ____  > |__|  \\___  >__|    \\____|__   (____  /____  >___|  /\n",
      "        \\/            \\/      \\/            \\/                \\/      \\/     \\/     \\/ \n",
      "### Available Monsters ###\n",
      "# Loch:\n",
      "# ~ Nessie\n"
     ]
    }
   ],
   "source": [
    "import monsters"
   ]
  },
  {
   "cell_type": "code",
   "execution_count": 6,
   "metadata": {
    "collapsed": false
   },
   "outputs": [
    {
     "data": {
      "text/plain": [
       "<module 'monsters.loch' from '/home/user/py_projects/meetpy/ownModule/monsters/loch/__init__.py'>"
      ]
     },
     "execution_count": 6,
     "metadata": {},
     "output_type": "execute_result"
    }
   ],
   "source": [
    "monsters.loch"
   ]
  },
  {
   "cell_type": "code",
   "execution_count": 7,
   "metadata": {
    "collapsed": false
   },
   "outputs": [
    {
     "data": {
      "text/plain": [
       "<function monsters.loch.nessie.nessie>"
      ]
     },
     "execution_count": 7,
     "metadata": {},
     "output_type": "execute_result"
    }
   ],
   "source": [
    "monsters.loch.nessie"
   ]
  },
  {
   "cell_type": "code",
   "execution_count": 8,
   "metadata": {
    "collapsed": false
   },
   "outputs": [
    {
     "ename": "AttributeError",
     "evalue": "'function' object has no attribute 'nessie'",
     "output_type": "error",
     "traceback": [
      "\u001b[0;31m---------------------------------------------------------------------------\u001b[0m",
      "\u001b[0;31mAttributeError\u001b[0m                            Traceback (most recent call last)",
      "\u001b[0;32m<ipython-input-8-e7901bed54fb>\u001b[0m in \u001b[0;36m<module>\u001b[0;34m()\u001b[0m\n\u001b[0;32m----> 1\u001b[0;31m \u001b[0mmonsters\u001b[0m\u001b[0;34m.\u001b[0m\u001b[0mloch\u001b[0m\u001b[0;34m.\u001b[0m\u001b[0mnessie\u001b[0m\u001b[0;34m.\u001b[0m\u001b[0mnessie\u001b[0m\u001b[0;34m\u001b[0m\u001b[0m\n\u001b[0m",
      "\u001b[0;31mAttributeError\u001b[0m: 'function' object has no attribute 'nessie'"
     ]
    }
   ],
   "source": [
    "monsters.loch.nessie.nessie"
   ]
  },
  {
   "cell_type": "code",
   "execution_count": 9,
   "metadata": {
    "collapsed": true
   },
   "outputs": [],
   "source": [
    "monsters.loch.nessie?"
   ]
  },
  {
   "cell_type": "code",
   "execution_count": 4,
   "metadata": {
    "collapsed": false
   },
   "outputs": [
    {
     "ename": "AttributeError",
     "evalue": "module 'monsters.loch' has no attribute '__Nessie__'",
     "output_type": "error",
     "traceback": [
      "\u001b[0;31m---------------------------------------------------------------------------\u001b[0m",
      "\u001b[0;31mAttributeError\u001b[0m                            Traceback (most recent call last)",
      "\u001b[0;32m<ipython-input-4-470fddaf4afc>\u001b[0m in \u001b[0;36m<module>\u001b[0;34m()\u001b[0m\n\u001b[0;32m----> 1\u001b[0;31m \u001b[0mmonsters\u001b[0m\u001b[0;34m.\u001b[0m\u001b[0mloch\u001b[0m\u001b[0;34m.\u001b[0m\u001b[0m__Nessie__\u001b[0m\u001b[0;34m\u001b[0m\u001b[0m\n\u001b[0m",
      "\u001b[0;31mAttributeError\u001b[0m: module 'monsters.loch' has no attribute '__Nessie__'"
     ]
    }
   ],
   "source": [
    "monsters.loch.__Nessie__"
   ]
  },
  {
   "cell_type": "code",
   "execution_count": 16,
   "metadata": {
    "collapsed": false
   },
   "outputs": [],
   "source": [
    "nessieRed = monsters.loch.nessie('Andy','red')"
   ]
  },
  {
   "cell_type": "code",
   "execution_count": 17,
   "metadata": {
    "collapsed": false
   },
   "outputs": [
    {
     "data": {
      "text/plain": [
       "<monsters.loch.nessie.__Nessie__ at 0x7fab9bc45898>"
      ]
     },
     "execution_count": 17,
     "metadata": {},
     "output_type": "execute_result"
    }
   ],
   "source": [
    "nessieRed"
   ]
  },
  {
   "cell_type": "code",
   "execution_count": 18,
   "metadata": {
    "collapsed": false
   },
   "outputs": [
    {
     "name": "stdout",
     "output_type": "stream",
     "text": [
      "<monsters.loch.nessie.__Nessie__ object at 0x7fab9bc45898>\n",
      "Andy\n",
      "red\n",
      "1\n",
      "\u001b[31m                     Hi, Im Andy!\u001b[0m\n",
      "\u001b[31m              _a_a\u001b[0m\n",
      "\u001b[31m             {/ ''\\_\u001b[0m\n",
      "\u001b[31m        _   {|  ._oo)\u001b[0m\n",
      "\u001b[31m       { \\  {/  |\u001b[0m\n",
      "\u001b[31m~^~^~`~^~`~^~^~^~`^~~\u001b[0m\n"
     ]
    }
   ],
   "source": [
    "print(nessieRed)\n",
    "print(nessieRed.name)\n",
    "print(nessieRed.color)\n",
    "print(nessieRed.length)\n",
    "nessieRed.say_hi()"
   ]
  },
  {
   "cell_type": "code",
   "execution_count": 19,
   "metadata": {
    "collapsed": false
   },
   "outputs": [
    {
     "name": "stdout",
     "output_type": "stream",
     "text": [
      "\u001b[33m                                               Hi, Im Matthias!\u001b[0m\n",
      "\u001b[33m                          _   _       _a_a\u001b[0m\n",
      "\u001b[33m              _   _     _{.`=`.}_    {/ ''\\_\u001b[0m\n",
      "\u001b[33m        _    {.`'`.}   {.'  _  '.}  {|  ._oo)\u001b[0m\n",
      "\u001b[33m       { \\  {/ .-. \\} {/  .' '.  \\} {/  |\u001b[0m\n",
      "\u001b[33m~^~^~`~^~`~^~`~^~`~^~^~`^~^~`^~^~^~^~^~^~`^~~\u001b[0m\n"
     ]
    }
   ],
   "source": [
    "nessieGold = monsters.loch.nessie('Matthias','yellow', length=3)\n",
    "nessieGold.say_hi()"
   ]
  },
  {
   "cell_type": "code",
   "execution_count": 20,
   "metadata": {
    "collapsed": false
   },
   "outputs": [
    {
     "name": "stdout",
     "output_type": "stream",
     "text": [
      "\u001b[34m                                               Hi, Im Matthias!\u001b[0m\n",
      "\u001b[34m                          _   _       _a_a\u001b[0m\n",
      "\u001b[34m              _   _     _{.`=`.}_    {/ ''\\_\u001b[0m\n",
      "\u001b[34m        _    {.`'`.}   {.'  _  '.}  {|  ._oo)\u001b[0m\n",
      "\u001b[34m       { \\  {/ .-. \\} {/  .' '.  \\} {/  |\u001b[0m\n",
      "\u001b[34m~^~^~`~^~`~^~`~^~`~^~^~`^~^~`^~^~^~^~^~^~`^~~\u001b[0m\n"
     ]
    }
   ],
   "source": [
    "nessieGold.color='blue'\n",
    "nessieGold.say_hi()"
   ]
  },
  {
   "cell_type": "code",
   "execution_count": 23,
   "metadata": {
    "collapsed": false
   },
   "outputs": [
    {
     "name": "stdout",
     "output_type": "stream",
     "text": [
      "\u001b[30m                     Hi, Im Jodoc!\u001b[0m\n",
      "\u001b[30m              _a_a\u001b[0m\n",
      "\u001b[30m             {/ ''\\_\u001b[0m\n",
      "\u001b[30m        _   {|  ._oo)\u001b[0m\n",
      "\u001b[30m       { \\  {/  |\u001b[0m\n",
      "\u001b[30m~^~^~`~^~`~^~^~^~`^~~\u001b[0m\n",
      "\u001b[31m                                               Hi, Im Gunhild!\u001b[0m\n",
      "\u001b[31m                          _   _       _a_a\u001b[0m\n",
      "\u001b[31m              _   _     _{.`=`.}_    {/ ''\\_\u001b[0m\n",
      "\u001b[31m        _    {.`'`.}   {.'  _  '.}  {|  ._oo)\u001b[0m\n",
      "\u001b[31m       { \\  {/ .-. \\} {/  .' '.  \\} {/  |\u001b[0m\n",
      "\u001b[31m~^~^~`~^~`~^~`~^~`~^~^~`^~^~`^~^~^~^~^~^~`^~~\u001b[0m\n",
      "\u001b[32m                     Hi, Im Basajaun!\u001b[0m\n",
      "\u001b[32m              _a_a\u001b[0m\n",
      "\u001b[32m             {/ ''\\_\u001b[0m\n",
      "\u001b[32m        _   {|  ._oo)\u001b[0m\n",
      "\u001b[32m       { \\  {/  |\u001b[0m\n",
      "\u001b[32m~^~^~`~^~`~^~^~^~`^~~\u001b[0m\n",
      "\u001b[33m                                     Hi, Im Marius!\u001b[0m\n",
      "\u001b[33m                _   _       _a_a\u001b[0m\n",
      "\u001b[33m              _{.`=`.}_    {/ ''\\_\u001b[0m\n",
      "\u001b[33m        _    {.'  _  '.}  {|  ._oo)\u001b[0m\n",
      "\u001b[33m       { \\  {/  .' '.  \\} {/  |\u001b[0m\n",
      "\u001b[33m~^~^~`~^~`~^~`^~^~`^~^~^~^~^~^~`^~~\u001b[0m\n",
      "\u001b[34m                                               Hi, Im Aldebrand!\u001b[0m\n",
      "\u001b[34m                          _   _       _a_a\u001b[0m\n",
      "\u001b[34m              _   _     _{.`=`.}_    {/ ''\\_\u001b[0m\n",
      "\u001b[34m        _    {.`'`.}   {.'  _  '.}  {|  ._oo)\u001b[0m\n",
      "\u001b[34m       { \\  {/ .-. \\} {/  .' '.  \\} {/  |\u001b[0m\n",
      "\u001b[34m~^~^~`~^~`~^~`~^~`~^~^~`^~^~`^~^~^~^~^~^~`^~~\u001b[0m\n",
      "\u001b[35m                     Hi, Im Oghenekevwe!\u001b[0m\n",
      "\u001b[35m              _a_a\u001b[0m\n",
      "\u001b[35m             {/ ''\\_\u001b[0m\n",
      "\u001b[35m        _   {|  ._oo)\u001b[0m\n",
      "\u001b[35m       { \\  {/  |\u001b[0m\n",
      "\u001b[35m~^~^~`~^~`~^~^~^~`^~~\u001b[0m\n",
      "\u001b[36m                     Hi, Im Mi-Gyeong!\u001b[0m\n",
      "\u001b[36m              _a_a\u001b[0m\n",
      "\u001b[36m             {/ ''\\_\u001b[0m\n",
      "\u001b[36m        _   {|  ._oo)\u001b[0m\n",
      "\u001b[36m       { \\  {/  |\u001b[0m\n",
      "\u001b[36m~^~^~`~^~`~^~^~^~`^~~\u001b[0m\n",
      "\u001b[37m                                               Hi, Im Edorta!\u001b[0m\n",
      "\u001b[37m                          _   _       _a_a\u001b[0m\n",
      "\u001b[37m              _   _     _{.`=`.}_    {/ ''\\_\u001b[0m\n",
      "\u001b[37m        _    {.`'`.}   {.'  _  '.}  {|  ._oo)\u001b[0m\n",
      "\u001b[37m       { \\  {/ .-. \\} {/  .' '.  \\} {/  |\u001b[0m\n",
      "\u001b[37m~^~^~`~^~`~^~`~^~`~^~^~`^~^~`^~^~^~^~^~^~`^~~\u001b[0m\n"
     ]
    }
   ],
   "source": [
    "names = ['Jodoc', 'Gunhild', 'Basajaun', 'Marius', 'Aldebrand', 'Oghenekevwe', 'Mi-Gyeong', 'Edorta']\n",
    "colors = ['grey', 'red', 'green', 'yellow', 'blue', 'magenta', 'cyan', 'white']\n",
    "creatures = []\n",
    "\n",
    "for n,c in zip(names, colors):\n",
    "    ness = monsters.loch.nessie(n,c)\n",
    "    ness.say_hi()\n",
    "    creatures.append(ness)"
   ]
  },
  {
   "cell_type": "code",
   "execution_count": 22,
   "metadata": {
    "collapsed": false
   },
   "outputs": [
    {
     "name": "stderr",
     "output_type": "stream",
     "text": [
      "* Break: /home/user/py_projects/meetpy/ownModule/monsters/loch/nessie.py ::: Line 90\n",
      "* Continue with Ctrl+D or raise SystemExit...\n"
     ]
    },
    {
     "name": "stdout",
     "output_type": "stream",
     "text": [
      "In : 1+2\n"
     ]
    },
    {
     "data": {
      "text/plain": [
       "3"
      ]
     },
     "execution_count": 22,
     "metadata": {},
     "output_type": "execute_result"
    },
    {
     "name": "stdout",
     "output_type": "stream",
     "text": [
      "In : self.color\n"
     ]
    },
    {
     "data": {
      "text/plain": [
       "'white'"
      ]
     },
     "execution_count": 22,
     "metadata": {},
     "output_type": "execute_result"
    },
    {
     "name": "stdout",
     "output_type": "stream",
     "text": [
      "In : self.say_hi()\n",
      "\u001b[37m                                     Hi, Im Edorta!\u001b[0m\n",
      "\u001b[37m                _   _       _a_a\u001b[0m\n",
      "\u001b[37m              _{.`=`.}_    {/ ''\\_\u001b[0m\n",
      "\u001b[37m        _    {.'  _  '.}  {|  ._oo)\u001b[0m\n",
      "\u001b[37m       { \\  {/  .' '.  \\} {/  |\u001b[0m\n",
      "\u001b[37m~^~^~`~^~`~^~`^~^~`^~^~^~^~^~^~`^~~\u001b[0m\n",
      "In : raise SystemExit\n"
     ]
    },
    {
     "ename": "SystemExit",
     "evalue": "",
     "output_type": "error",
     "traceback": [
      "An exception has occurred, use %tb to see the full traceback.\n",
      "\u001b[0;31mSystemExit\u001b[0m\n"
     ]
    },
    {
     "name": "stderr",
     "output_type": "stream",
     "text": [
      "/home/user/anaconda3/lib/python3.6/site-packages/IPython/core/interactiveshell.py:2889: UserWarning: To exit: use 'exit', 'quit', or Ctrl-D.\n",
      "  warn(\"To exit: use 'exit', 'quit', or Ctrl-D.\", stacklevel=1)\n"
     ]
    }
   ],
   "source": [
    "# get out by using 'raise SystemExit'\n",
    "ness.debug()"
   ]
  },
  {
   "cell_type": "code",
   "execution_count": 26,
   "metadata": {
    "collapsed": false
   },
   "outputs": [
    {
     "name": "stdout",
     "output_type": "stream",
     "text": [
      "Jodoc\n",
      "Gunhild\n",
      "Basajaun\n",
      "Marius\n",
      "Aldebrand\n",
      "Oghenekevwe\n",
      "Mi-Gyeong\n",
      "Edorta\n"
     ]
    }
   ],
   "source": [
    "for c in creatures: print(c.name)"
   ]
  },
  {
   "cell_type": "code",
   "execution_count": null,
   "metadata": {
    "collapsed": true
   },
   "outputs": [],
   "source": []
  }
 ],
 "metadata": {
  "kernelspec": {
   "display_name": "Python 3",
   "language": "python",
   "name": "python3"
  },
  "language_info": {
   "codemirror_mode": {
    "name": "ipython",
    "version": 3
   },
   "file_extension": ".py",
   "mimetype": "text/x-python",
   "name": "python",
   "nbconvert_exporter": "python",
   "pygments_lexer": "ipython3",
   "version": "3.6.0"
  }
 },
 "nbformat": 4,
 "nbformat_minor": 2
}
